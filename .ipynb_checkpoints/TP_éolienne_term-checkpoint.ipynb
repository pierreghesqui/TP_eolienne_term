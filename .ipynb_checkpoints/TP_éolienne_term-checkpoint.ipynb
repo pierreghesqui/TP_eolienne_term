{
 "cells": [
  {
   "cell_type": "markdown",
   "id": "6fc82c0b",
   "metadata": {},
   "source": [
    "# Analyse de ton pointage vidéo\n",
    "Sur cette page, nous allons mesurer les vitesses et accélérations de la pâle de l'éolienne grâce à ton pointage vidéo. "
   ]
  },
  {
   "cell_type": "markdown",
   "id": "1eeb3dd3",
   "metadata": {},
   "source": [
    "## 1- Importation de ton pointage vidéo\n",
    "✍️ **Importation de votre fichier \"mesures.txt\" :** Cliquer sur \"Fichier\">Ouvrir et sélectionner votre fichier mesures.txt <br>\n",
    "\n",
    "✍️ **Exécute le code en cliquant dessus puis sur la flèche en haut de la page.**"
   ]
  },
  {
   "cell_type": "code",
   "execution_count": null,
   "id": "41de9810",
   "metadata": {},
   "outputs": [],
   "source": [
    "import numpy as np\n",
    "import matplotlib.pyplot as plt\n",
    "from fonctions import importationMesures, filtrage, affichage\n",
    "\n",
    "t, x, y = importationMesures(\"mesures.txt\")\n",
    "\n",
    "print(\"Bravo ! L'importation des mesures s'est effectuée correctement. \\nVoici ci-dessous le résultat de ton pointage :  \\n\")\n",
    "print(\"t = \", t, \"\\n\")\n",
    "print(\"x = \", x, \"\\n\")\n",
    "print(\"y = \", y, \"\\n\")"
   ]
  },
  {
   "cell_type": "markdown",
   "id": "174d018e",
   "metadata": {},
   "source": [
    "✍️ **Vérifie que ton code s'est correctement exécuté.** Il doit être écrit <code>Bravo ! L'importation des mesures s'est effectuée correctement.</code> Si ce n'est pas le cas, vérifie que le fichier importés s'appelle bien \"mesures.txt\"."
   ]
  },
  {
   "cell_type": "markdown",
   "id": "2292bfeb",
   "metadata": {},
   "source": [
    "## 2- Calcul des coordonnées de $\\vec{v}$ et de $\\vec{a}$"
   ]
  },
  {
   "cell_type": "markdown",
   "id": "1eb859b1",
   "metadata": {},
   "source": [
    "✍️**Pour chacune des lignes du code ci-dessous ajoute un commentaire pour expliquer ce qu'elle fait.** Pour ajouter un commentaire, il suffit de mettre un \"hashtag\" puis d'écrire le commentaire (regarde les lignes 1 et 2 du code ci-dessous)."
   ]
  },
  {
   "cell_type": "code",
   "execution_count": null,
   "id": "014b1c27",
   "metadata": {},
   "outputs": [],
   "source": [
    "deltat = 0.04 #durée entre deux images de la chronophotographie\n",
    "vx = []  #Création d'une liste vide qui contiendra les valeurs de vx     \n",
    "vy = []  #A toi d'écrire le commentaire...     \n",
    "v  = []       \n",
    "\n",
    "for i in range(len(x)-1):\n",
    "    vx_i = (x[i+1]-x[i])/deltat \n",
    "    \n",
    "    \n",
    "    vy_i = (y[i+1]-y[i])/deltat\n",
    "    \n",
    "    \n",
    "    v_i  = np.sqrt(vx_i**2+vy_i**2)   \n",
    "    \n",
    "    \n",
    "    vx.append(vx_i)                   \n",
    "    vy.append(vy_i)                   \n",
    "    v.append(v_i)                     \n",
    "   \n",
    "print(\"Voici les valeurs des coordonnées des vitesses : \")\n",
    "print(\"vx = \", vx, \"\\n\")\n",
    "print(\"vy = \", vy, \"\\n\")\n",
    "print(\"v = \", v, \"\\n\")"
   ]
  },
  {
   "cell_type": "markdown",
   "id": "9b0925ec",
   "metadata": {},
   "source": [
    "✍️**Complète le code ci-dessous pour calculer les valeurs des coordonnées du vecteur accélération et de sa norme.**"
   ]
  },
  {
   "cell_type": "code",
   "execution_count": null,
   "id": "08e9e610",
   "metadata": {},
   "outputs": [],
   "source": [
    "vx = filtrage(vx) #réduction des erreurs de pointages NE PAS MODIFIER\n",
    "vy = filtrage(vy) #réduction des erreurs de pointages NE PAS MODIFIER\n",
    "\n",
    "ax = []\n",
    "ay = []\n",
    "a  = []\n",
    "\n",
    "for i in range(0,len(vx)-1):\n",
    "    ax_i  = ...\n",
    "    ay_i  = ...\n",
    "    a_i   = ...\n",
    "    \n",
    "    ax.append(ax_i)\n",
    "    ay.append(ay_i)\n",
    "    a.append(a_i)\n",
    "\n",
    "ax = filtrage(ax) #réduction des erreurs de pointages NE PAS MODIFIER\n",
    "ay = filtrage(ay) #réduction des erreurs de pointages NE PAS MODIFIER\n",
    "\n",
    "affichage(x,y,vx,vy,ax,ay,t,v) #Affichage des vecteurs"
   ]
  },
  {
   "cell_type": "markdown",
   "id": "6b303808",
   "metadata": {},
   "source": [
    "✍️**Réponds à la problématique du TP (voir polycopié)**"
   ]
  }
 ],
 "metadata": {
  "kernelspec": {
   "display_name": "Python 3 (ipykernel)",
   "language": "python",
   "name": "python3"
  },
  "language_info": {
   "codemirror_mode": {
    "name": "ipython",
    "version": 3
   },
   "file_extension": ".py",
   "mimetype": "text/x-python",
   "name": "python",
   "nbconvert_exporter": "python",
   "pygments_lexer": "ipython3",
   "version": "3.9.12"
  }
 },
 "nbformat": 4,
 "nbformat_minor": 5
}

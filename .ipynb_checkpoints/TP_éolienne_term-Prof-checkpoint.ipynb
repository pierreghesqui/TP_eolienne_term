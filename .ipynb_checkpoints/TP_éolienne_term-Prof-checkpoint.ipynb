{
 "cells": [
  {
   "cell_type": "markdown",
   "id": "6fc82c0b",
   "metadata": {},
   "source": [
    "# Analyse de ton pointage vidéo\n",
    "Sur cette page, nous allons mesurer les vitesses et accélérations de la pâle de l'éolienne grâce à ton pointage vidéo. "
   ]
  },
  {
   "cell_type": "markdown",
   "id": "1eeb3dd3",
   "metadata": {},
   "source": [
    "## 1- Importation de ton pointage vidéo\n",
    "✍️ **Dans le code ci-dessous, modifie la valeur de la variable <code>lienMesures</code> en copiant collant le lien vers ton fichier \"mesures.txt\".** <br>\n",
    "*Normalement, ce lien doit finir par \"\\mesures.txt\".*\n",
    "\n",
    "✍️ **Exécute le code en cliquant dessus puis sur la flèche en haut de la page.**"
   ]
  },
  {
   "cell_type": "code",
   "execution_count": null,
   "id": "41de9810",
   "metadata": {},
   "outputs": [],
   "source": [
    "import numpy as np\n",
    "import matplotlib.pyplot as plt\n",
    "from fonctions import importationMesures, filtrage, affichageVecteurs\n",
    "\n",
    "lienMesures = 'mesures.txt' #A SUPPRIMER !\n",
    "#lienMesures = \"C:\\Users\\pierr\\Desktop\\mesures.txt\" #A MODIFIER !\n",
    "\n",
    "t, x, y = importationMesures(lienMesures)\n",
    "print(\"Bravo ! L'importation des mesures s'est effectuée correctement. \\nVoici ci-dessous le résultat de ton pointage :  \\n\")\n",
    "print(\"t = \", t, \"\\n\")\n",
    "print(\"x = \", x, \"\\n\")\n",
    "print(\"y = \", y, \"\\n\")"
   ]
  },
  {
   "cell_type": "markdown",
   "id": "174d018e",
   "metadata": {},
   "source": [
    "✍️ **Vérifie que ton code s'est correctement exécuté.** Il doit être écrit <code>Bravo ! L'importation des mesures s'est effectuée correctement.</code> Si ce n'est pas le cas, vérifie que tu ne t'es pas trompé en modifiant la variable <code>lienMesures</code>."
   ]
  },
  {
   "cell_type": "markdown",
   "id": "2292bfeb",
   "metadata": {},
   "source": [
    "## 2- Calcul des coordonnées de $\\vec{v}$ et de $\\vec{a}$"
   ]
  },
  {
   "cell_type": "markdown",
   "id": "1eb859b1",
   "metadata": {},
   "source": [
    "✍️ **Modifier le code ci-dessous. Les endroits à modifier sont signalés par des \"...\"**\n",
    "\n",
    "*Indices :* <br>\n",
    "- <code>deltat</code> correspond à la durée entre deux images successives (voir Partie 1-5 de la <a href=\"https://docs.google.com/document/d/1SumaWSffMH8Ryclv3mSDO5tclAeW914orHZUR-pWb1Q/edit?usp=sharing\">fiche méthode Avimeca</a>).\n",
    "- Pour calculer $v_x(t_i) = \\frac{dx}{dt}(t_i)$, utiliser l'expression approchée : $\\frac{dx}{dt}(t_i)=\\frac{\\Delta x (t_i)}{\\Delta t}$.\n",
    "- $\\Delta x(t_i)$ se calcule grâce à la relation suivante  $\\Delta x(t_i) = x(t_{i+1})-x(t_i)$.\n",
    "- En python, $x(t_{i})$ se note $x[i]$.\n",
    "- Pour calculer $v_y(t_i) = \\frac{dy}{dt}(t_i)$, utiliser l'expression approchée : $\\frac{dy}{dt}(t_i)=\\frac{\\Delta y (t_i)}{\\Delta t}$.\n",
    "- Pour calculer $v(t_i)$, on utilise la relation suivante : $v(t_i) = \\sqrt{v_x(t_i)^2+v_y(t_i)^2}$.\n",
    "- En python, la racine carré s'écrit np.sqrt. Par exemple $\\sqrt{x}$ s'écrit <code>np.sqrt(x)</code>.\n",
    "- En python, la puissance s'écrit avec le symbole <code>\" ** \"</code>. Par exemple $5^2$ s'écrit <code>5**2</code>."
   ]
  },
  {
   "cell_type": "code",
   "execution_count": null,
   "id": "014b1c27",
   "metadata": {},
   "outputs": [],
   "source": [
    "deltat = t[1]-t[0]\n",
    "vx = []\n",
    "vy = []\n",
    "v  = []\n",
    "for i in range(0,x.size-1):\n",
    "    vx_i = (x[i+1]-x[i])/(deltat)\n",
    "    vy_i = (y[i+1]-y[i])/(deltat)\n",
    "    v_i  = np.sqrt(vx_i**2+vy_i**2)\n",
    "    vx.append(vx_i)\n",
    "    vy.append(vy_i)\n",
    "    v.append(v_i)\n",
    "   \n",
    "\n",
    "print(\"Voici les valeurs des coordonnées des vitesses : \")\n",
    "print(\"vx = \", vx, \"\\n\")\n",
    "print(\"vy = \", vy, \"\\n\")\n",
    "print(\"v = \", v, \"\\n\")"
   ]
  },
  {
   "cell_type": "code",
   "execution_count": null,
   "id": "eb7a6281",
   "metadata": {},
   "outputs": [],
   "source": [
    "vx = filtrage(vx) #réduction des erreurs de pointages\n",
    "vy = filtrage(vy)\n",
    "\n",
    "ax = []\n",
    "ay = []\n",
    "a  = []\n",
    "\n",
    "for i in range(0,len(vx)-1):\n",
    "    ax_i = (vx[i+1]-vx[i])/deltat\n",
    "    ay_i = (vy[i+1]-vy[i])/deltat\n",
    "    a_i    = np.sqrt(ax_i**2+ay_i**2)\n",
    "    ax.append(ax_i)\n",
    "    ay.append(ay_i)\n",
    "    a.append(a_i)\n",
    "\n",
    "ax = filtrage(ax) #réduction des erreurs de pointages\n",
    "ay = filtrage(ay)\n",
    "\n",
    "print(\"Voici les valeurs des coordonnées des accélérations : \")\n",
    "print(\"ax = \", ax, \"\\n\")\n",
    "print(\"ay = \", ay, \"\\n\")\n",
    "print(\"a = \", a, \"\\n\")"
   ]
  },
  {
   "cell_type": "code",
   "execution_count": null,
   "id": "ec59828c",
   "metadata": {},
   "outputs": [],
   "source": [
    "affichageVecteurs(x,y,vx,vy,ax,ay)"
   ]
  },
  {
   "cell_type": "code",
   "execution_count": null,
   "id": "3fd8a1a3",
   "metadata": {},
   "outputs": [],
   "source": []
  }
 ],
 "metadata": {
  "kernelspec": {
   "display_name": "Python 3 (ipykernel)",
   "language": "python",
   "name": "python3"
  },
  "language_info": {
   "codemirror_mode": {
    "name": "ipython",
    "version": 3
   },
   "file_extension": ".py",
   "mimetype": "text/x-python",
   "name": "python",
   "nbconvert_exporter": "python",
   "pygments_lexer": "ipython3",
   "version": "3.9.12"
  }
 },
 "nbformat": 4,
 "nbformat_minor": 5
}
